
# importing the required module 
import matplotlib.pyplot as plt 
  
# x axis values 
x = [0,-20,-40,-60,-80,-100,-120,-140,-160] 
# corresponding y axis values 
y = [0,1,2,3,4,5,6,7,8] 
  
# plotting the points  
plt.plot(x, y) 
  
# naming the x axis 
plt.xlabel('Voltage') 
# naming the y axis 
plt.ylabel('Frequency') 
  
# giving a title to my graph 
plt.title('Question 1e: Frequency against Voltage graph') 
  
# function to show the plot 
plt.show() 
